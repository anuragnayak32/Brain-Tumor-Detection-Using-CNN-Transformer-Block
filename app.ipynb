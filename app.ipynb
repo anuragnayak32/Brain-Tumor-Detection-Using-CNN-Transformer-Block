{
 "cells": [
  {
   "cell_type": "code",
   "execution_count": 1,
   "metadata": {},
   "outputs": [],
   "source": [
    "trainDir = \"training\"\n",
    "testDir = \"validation\""
   ]
  },
  {
   "cell_type": "code",
   "execution_count": 2,
   "metadata": {},
   "outputs": [],
   "source": [
    "import numpy as np\n",
    "import tensorflow as tf\n",
    "from tensorflow.keras.models import Sequential\n",
    "from tensorflow.keras.layers import Conv2D, MaxPooling2D, Flatten, Dense, Dropout, BatchNormalization, MultiHeadAttention, LayerNormalization, Reshape, Add, Input, Lambda\n",
    "from tensorflow.keras.preprocessing.image import ImageDataGenerator\n",
    "import tensorflow.keras.layers as layers\n",
    "from tensorflow.keras.models import Model\n",
    "from tensorflow.keras.callbacks import EarlyStopping\n",
    "import matplotlib.pyplot as plt\n",
    "from sklearn.utils import class_weight "
   ]
  },
  {
   "cell_type": "code",
   "execution_count": 3,
   "metadata": {},
   "outputs": [],
   "source": [
    "def transformer_block(units, num_heads, ff_dim=128, dropout_rate=0.1):\n",
    "    inputs = tf.keras.Input(shape=(1, units))\n",
    "    \n",
    "    # Multi-Head Self-Attention\n",
    "    attention_output = MultiHeadAttention(num_heads=num_heads, key_dim=units)(inputs, inputs)\n",
    "    attention_output = Add()([inputs, attention_output])\n",
    "    attention_output = LayerNormalization()(attention_output)\n",
    "\n",
    "    # Feed-Forward Network\n",
    "    ffn_output = Dense(ff_dim, activation=\"relu\")(attention_output)\n",
    "    ffn_output = Dense(units)(ffn_output)\n",
    "    ffn_output = Add()([attention_output, ffn_output])\n",
    "    outputs = LayerNormalization()(ffn_output)\n",
    "    \n",
    "    return tf.keras.Model(inputs, outputs)"
   ]
  },
  {
   "cell_type": "code",
   "execution_count": 6,
   "metadata": {},
   "outputs": [
    {
     "name": "stdout",
     "output_type": "stream",
     "text": [
      "Found 5722 images belonging to 2 classes.\n",
      "Found 1430 images belonging to 2 classes.\n",
      "Epoch 1/15\n"
     ]
    },
    {
     "name": "stderr",
     "output_type": "stream",
     "text": [
      "/Library/Frameworks/Python.framework/Versions/3.10/lib/python3.10/site-packages/keras/src/layers/convolutional/base_conv.py:107: UserWarning: Do not pass an `input_shape`/`input_dim` argument to a layer. When using Sequential models, prefer using an `Input(shape)` object as the first layer in the model instead.\n",
      "  super().__init__(activity_regularizer=activity_regularizer, **kwargs)\n",
      "/Library/Frameworks/Python.framework/Versions/3.10/lib/python3.10/site-packages/keras/src/trainers/data_adapters/py_dataset_adapter.py:121: UserWarning: Your `PyDataset` class should call `super().__init__(**kwargs)` in its constructor. `**kwargs` can include `workers`, `use_multiprocessing`, `max_queue_size`. Do not pass these arguments to `fit()`, as they will be ignored.\n",
      "  self._warn_if_super_not_called()\n",
      "/Library/Frameworks/Python.framework/Versions/3.10/lib/python3.10/site-packages/keras/src/ops/nn.py:545: UserWarning: You are using a softmax over axis 3 of a tensor of shape (None, 4, 1, 1). This axis has size 1. The softmax operation will always return the value 1, which is likely not what you intended. Did you mean to use a sigmoid instead?\n",
      "  warnings.warn(\n"
     ]
    },
    {
     "name": "stdout",
     "output_type": "stream",
     "text": [
      "\u001b[1m179/179\u001b[0m \u001b[32m━━━━━━━━━━━━━━━━━━━━\u001b[0m\u001b[37m\u001b[0m \u001b[1m43s\u001b[0m 232ms/step - accuracy: 0.7068 - loss: 0.5816 - val_accuracy: 0.8608 - val_loss: 0.3791\n",
      "Epoch 2/15\n",
      "\u001b[1m179/179\u001b[0m \u001b[32m━━━━━━━━━━━━━━━━━━━━\u001b[0m\u001b[37m\u001b[0m \u001b[1m45s\u001b[0m 249ms/step - accuracy: 0.8985 - loss: 0.2255 - val_accuracy: 0.8629 - val_loss: 0.3607\n",
      "Epoch 3/15\n",
      "\u001b[1m179/179\u001b[0m \u001b[32m━━━━━━━━━━━━━━━━━━━━\u001b[0m\u001b[37m\u001b[0m \u001b[1m41s\u001b[0m 227ms/step - accuracy: 0.8971 - loss: 0.2180 - val_accuracy: 0.8406 - val_loss: 0.4708\n",
      "Epoch 4/15\n",
      "\u001b[1m179/179\u001b[0m \u001b[32m━━━━━━━━━━━━━━━━━━━━\u001b[0m\u001b[37m\u001b[0m \u001b[1m40s\u001b[0m 226ms/step - accuracy: 0.9317 - loss: 0.1603 - val_accuracy: 0.8455 - val_loss: 0.5709\n",
      "Epoch 5/15\n",
      "\u001b[1m179/179\u001b[0m \u001b[32m━━━━━━━━━━━━━━━━━━━━\u001b[0m\u001b[37m\u001b[0m \u001b[1m40s\u001b[0m 222ms/step - accuracy: 0.9494 - loss: 0.1274 - val_accuracy: 0.8601 - val_loss: 0.5680\n",
      "Epoch 6/15\n",
      "\u001b[1m179/179\u001b[0m \u001b[32m━━━━━━━━━━━━━━━━━━━━\u001b[0m\u001b[37m\u001b[0m \u001b[1m40s\u001b[0m 220ms/step - accuracy: 0.9635 - loss: 0.1000 - val_accuracy: 0.8517 - val_loss: 0.8600\n",
      "Epoch 7/15\n",
      "\u001b[1m179/179\u001b[0m \u001b[32m━━━━━━━━━━━━━━━━━━━━\u001b[0m\u001b[37m\u001b[0m \u001b[1m40s\u001b[0m 224ms/step - accuracy: 0.9737 - loss: 0.0747 - val_accuracy: 0.8874 - val_loss: 0.8342\n",
      "Epoch 8/15\n",
      "\u001b[1m179/179\u001b[0m \u001b[32m━━━━━━━━━━━━━━━━━━━━\u001b[0m\u001b[37m\u001b[0m \u001b[1m40s\u001b[0m 221ms/step - accuracy: 0.9814 - loss: 0.0465 - val_accuracy: 0.8741 - val_loss: 0.5952\n",
      "Epoch 9/15\n",
      "\u001b[1m179/179\u001b[0m \u001b[32m━━━━━━━━━━━━━━━━━━━━\u001b[0m\u001b[37m\u001b[0m \u001b[1m41s\u001b[0m 226ms/step - accuracy: 0.9837 - loss: 0.0498 - val_accuracy: 0.9014 - val_loss: 0.7322\n",
      "Epoch 10/15\n",
      "\u001b[1m179/179\u001b[0m \u001b[32m━━━━━━━━━━━━━━━━━━━━\u001b[0m\u001b[37m\u001b[0m \u001b[1m41s\u001b[0m 227ms/step - accuracy: 0.9917 - loss: 0.0307 - val_accuracy: 0.9007 - val_loss: 0.6962\n",
      "Epoch 11/15\n",
      "\u001b[1m179/179\u001b[0m \u001b[32m━━━━━━━━━━━━━━━━━━━━\u001b[0m\u001b[37m\u001b[0m \u001b[1m40s\u001b[0m 223ms/step - accuracy: 0.9917 - loss: 0.0287 - val_accuracy: 0.8881 - val_loss: 1.0700\n",
      "Epoch 12/15\n",
      "\u001b[1m179/179\u001b[0m \u001b[32m━━━━━━━━━━━━━━━━━━━━\u001b[0m\u001b[37m\u001b[0m \u001b[1m40s\u001b[0m 226ms/step - accuracy: 0.9976 - loss: 0.0091 - val_accuracy: 0.8874 - val_loss: 0.9672\n",
      "Epoch 13/15\n",
      "\u001b[1m179/179\u001b[0m \u001b[32m━━━━━━━━━━━━━━━━━━━━\u001b[0m\u001b[37m\u001b[0m \u001b[1m40s\u001b[0m 223ms/step - accuracy: 0.9934 - loss: 0.0198 - val_accuracy: 0.8776 - val_loss: 0.8177\n",
      "Epoch 14/15\n",
      "\u001b[1m179/179\u001b[0m \u001b[32m━━━━━━━━━━━━━━━━━━━━\u001b[0m\u001b[37m\u001b[0m \u001b[1m42s\u001b[0m 236ms/step - accuracy: 0.9980 - loss: 0.0039 - val_accuracy: 0.8811 - val_loss: 0.9935\n",
      "Epoch 15/15\n",
      "\u001b[1m179/179\u001b[0m \u001b[32m━━━━━━━━━━━━━━━━━━━━\u001b[0m\u001b[37m\u001b[0m \u001b[1m40s\u001b[0m 225ms/step - accuracy: 0.9902 - loss: 0.0278 - val_accuracy: 0.8958 - val_loss: 0.7755\n",
      "\u001b[1m179/179\u001b[0m \u001b[32m━━━━━━━━━━━━━━━━━━━━\u001b[0m\u001b[37m\u001b[0m \u001b[1m12s\u001b[0m 66ms/step - accuracy: 0.9948 - loss: 0.0159\n"
     ]
    }
   ],
   "source": [
    "# Step 1: Data Preprocessing\n",
    "\n",
    "splits = [0.2]  # Example: 8:2 \n",
    "results = []\n",
    "\n",
    "for i, split in enumerate(splits, start=1):\n",
    "    data_gen = ImageDataGenerator(rescale=1.0/255.0, validation_split=split)\n",
    "    \n",
    "    train_data = data_gen.flow_from_directory(\n",
    "        trainDir,\n",
    "        target_size=(128, 128),\n",
    "        batch_size=32,\n",
    "        class_mode='binary',\n",
    "        subset='training'\n",
    "    )\n",
    "    val_data = data_gen.flow_from_directory(\n",
    "        trainDir,\n",
    "        target_size=(128, 128),\n",
    "        batch_size=32,\n",
    "        class_mode='binary',\n",
    "        subset='validation'\n",
    "    )\n",
    "\n",
    "transformer = transformer_block(units=128, num_heads=4)\n",
    "\n",
    "# Step 2: Building the CNN Model\n",
    "model = Sequential([\n",
    "    Conv2D(32, (3,3), activation='relu', input_shape=(128, 128, 3)),\n",
    "    MaxPooling2D(2, 2),\n",
    "    Conv2D(64, (3,3), activation='relu'),\n",
    "    MaxPooling2D(2,2),\n",
    "    Conv2D(128, (3,3), activation='relu'),\n",
    "    MaxPooling2D(2,2),\n",
    "    # BatchNormalization(),\n",
    "    Flatten(),\n",
    "    Dense(128, activation='relu'), \n",
    "    Reshape((1, 128)),                #Reshape to (sequence length, units) for transformer\n",
    "\n",
    "    #  # Add transformer block\n",
    "    transformer,\n",
    "\n",
    "    Flatten(),  # Flatten back for fully connected layers\n",
    "    Dense(128, activation='relu'),\n",
    "    Dropout(0.3),\n",
    "    Dense(1, activation='sigmoid')\n",
    "])\n",
    "model.compile(optimizer='adam', loss='binary_crossentropy', metrics=['accuracy'])\n",
    "\n",
    "labels = train_data.classes  # Array of 0s and 1s for binary classes\n",
    "class_weights = class_weight.compute_class_weight('balanced', classes=np.unique(labels), y=labels)\n",
    "class_weights_dict = dict(enumerate(class_weights))\n",
    "\n",
    "# Step 3: Training the Model\n",
    "history = model.fit(\n",
    "    train_data,\n",
    "    epochs=15,\n",
    "    validation_data=val_data,\n",
    ")\n",
    "val_loss, val_accuracy = model.evaluate(train_data)\n",
    "\n",
    "\n",
    "\n"
   ]
  },
  {
   "cell_type": "code",
   "execution_count": 7,
   "metadata": {},
   "outputs": [
    {
     "name": "stdout",
     "output_type": "stream",
     "text": [
      "   No  Training Images  Testing Images Splitting Ratio  Accuracy (%)\n",
      "0   1             5722            1430             8:2         99.46\n"
     ]
    }
   ],
   "source": [
    "import pandas as pd\n",
    "results.append({\n",
    "        \"No\": i,\n",
    "        \"Training Images\": train_data.samples,\n",
    "        \"Testing Images\": val_data.samples,\n",
    "        \"Splitting Ratio\": f\"{int((1 - split) * 10)}:{int(split * 10)}\",\n",
    "        \"Accuracy (%)\": round(val_accuracy * 100, 2)\n",
    "    })\n",
    "\n",
    "# Convert to DataFrame\n",
    "results_df = pd.DataFrame(results)\n",
    "print(results_df)"
   ]
  },
  {
   "cell_type": "code",
   "execution_count": 8,
   "metadata": {},
   "outputs": [
    {
     "name": "stdout",
     "output_type": "stream",
     "text": [
      "\u001b[1m 2/45\u001b[0m \u001b[37m━━━━━━━━━━━━━━━━━━━━\u001b[0m \u001b[1m2s\u001b[0m 53ms/step "
     ]
    },
    {
     "name": "stderr",
     "output_type": "stream",
     "text": [
      "/Library/Frameworks/Python.framework/Versions/3.10/lib/python3.10/site-packages/keras/src/ops/nn.py:545: UserWarning: You are using a softmax over axis 3 of a tensor of shape (32, 4, 1, 1). This axis has size 1. The softmax operation will always return the value 1, which is likely not what you intended. Did you mean to use a sigmoid instead?\n",
      "  warnings.warn(\n"
     ]
    },
    {
     "name": "stdout",
     "output_type": "stream",
     "text": [
      "\u001b[1m45/45\u001b[0m \u001b[32m━━━━━━━━━━━━━━━━━━━━\u001b[0m\u001b[37m\u001b[0m \u001b[1m3s\u001b[0m 56ms/step\n",
      "Precision: 0.69\n",
      "Recall: 0.80\n",
      "F1-Score: 0.74\n"
     ]
    },
    {
     "name": "stderr",
     "output_type": "stream",
     "text": [
      "/Library/Frameworks/Python.framework/Versions/3.10/lib/python3.10/site-packages/keras/src/ops/nn.py:545: UserWarning: You are using a softmax over axis 3 of a tensor of shape (None, 4, 1, 1). This axis has size 1. The softmax operation will always return the value 1, which is likely not what you intended. Did you mean to use a sigmoid instead?\n",
      "  warnings.warn(\n"
     ]
    }
   ],
   "source": [
    "from sklearn.metrics import precision_score, recall_score, f1_score, classification_report\n",
    "import numpy as np\n",
    "\n",
    "# Step 1: Get Predictions\n",
    "val_predictions = model.predict(val_data)\n",
    "val_predictions = (val_predictions > 0.5).astype(int)  # Convert probabilities to binary predictions (0 or 1)\n",
    "\n",
    "# Step 2: Get True Labels\n",
    "val_labels = val_data.classes  # Ground truth labels\n",
    "\n",
    "# Step 3: Calculate Precision, Recall, and F1-Score\n",
    "precision = precision_score(val_labels, val_predictions)\n",
    "recall = recall_score(val_labels, val_predictions)\n",
    "f1 = f1_score(val_labels, val_predictions)\n",
    "\n",
    "print(f\"Precision: {precision:.2f}\")\n",
    "print(f\"Recall: {recall:.2f}\")\n",
    "print(f\"F1-Score: {f1:.2f}\")\n",
    "\n"
   ]
  },
  {
   "cell_type": "code",
   "execution_count": 9,
   "metadata": {},
   "outputs": [
    {
     "data": {
      "image/png": "[encoded data removed]",
      "text/plain": [
       "<Figure size 640x480 with 1 Axes>"
      ]
     },
     "metadata": {},
     "output_type": "display_data"
    }
   ],
   "source": [
    "# Step 4: Evaluate the Model\n",
    "plt.plot(history.history['accuracy'], label='accuracy')\n",
    "plt.plot(history.history['val_accuracy'], label = 'val_accuracy')\n",
    "plt.xlabel('Epoch')\n",
    "plt.ylabel('Accuracy')\n",
    "plt.legend(loc='lower right')\n",
    "plt.show()"
   ]
  },
  {
   "cell_type": "code",
   "execution_count": 30,
   "metadata": {},
   "outputs": [],
   "source": [
    "def predict_tumor(image_path, threshold=0.5):\n",
    "    # Load and preprocess the image\n",
    "    img = tf.keras.preprocessing.image.load_img(image_path, target_size=(128, 128))\n",
    "    img_array = tf.keras.preprocessing.image.img_to_array(img) / 255.0\n",
    "    img_array = np.expand_dims(img_array, axis=0)\n",
    "    \n",
    "    # Make prediction\n",
    "    prediction = model.predict(img_array)\n",
    "    confidence = prediction[0][0] * 100  # Convert to percentage\n",
    "    \n",
    "    # Determine the result\n",
    "    if prediction[0] > threshold:\n",
    "        result = \"Tumor Detected\"\n",
    "        confidence_level = confidence  # Confidence for \"Tumor Detected\"\n",
    "    else:\n",
    "        result = \"No Tumor Detected\"\n",
    "        confidence_level = 100 - confidence  # Confidence for \"No Tumor Detected\"\n",
    "    \n",
    "    return result, confidence_level\n"
   ]
  },
  {
   "cell_type": "code",
   "execution_count": 31,
   "metadata": {},
   "outputs": [
    {
     "name": "stdout",
     "output_type": "stream",
     "text": [
      "\u001b[1m1/1\u001b[0m \u001b[32m━━━━━━━━━━━━━━━━━━━━\u001b[0m\u001b[37m\u001b[0m \u001b[1m0s\u001b[0m 98ms/step\n",
      "Prediction: Tumor Detected, Confidence Level: 100.00%\n"
     ]
    },
    {
     "name": "stderr",
     "output_type": "stream",
     "text": [
      "/Library/Frameworks/Python.framework/Versions/3.10/lib/python3.10/site-packages/keras/src/ops/nn.py:545: UserWarning: You are using a softmax over axis 3 of a tensor of shape (1, 4, 1, 1). This axis has size 1. The softmax operation will always return the value 1, which is likely not what you intended. Did you mean to use a sigmoid instead?\n",
      "  warnings.warn(\n"
     ]
    }
   ],
   "source": [
    "result, confidence = predict_tumor(\"/Users/dpak/Desktop/brain/a.jpg\")\n",
    "print(f\"Prediction: {result}, Confidence Level: {confidence:.2f}%\")"
   ]
  },
  {
   "cell_type": "code",
   "execution_count": 33,
   "metadata": {},
   "outputs": [
    {
     "name": "stdout",
     "output_type": "stream",
     "text": [
      "Random Forest - Accuracy: 0.80\n",
      "Random Forest - Precision: 0.87\n",
      "Random Forest - Recall: 0.84\n",
      "Random Forest - F1-Score: 0.85\n"
     ]
    }
   ],
   "source": [
    "from sklearn.ensemble import RandomForestClassifier\n",
    "from sklearn.metrics import accuracy_score, precision_score, recall_score, f1_score, classification_report\n",
    "from sklearn.preprocessing import LabelEncoder\n",
    "import numpy as np\n",
    "\n",
    "# Step 1: Prepare the data\n",
    "# Flatten the images and reshape for Random Forest\n",
    "train_images = np.concatenate([train_data[i][0] for i in range(len(train_data))])\n",
    "train_labels = np.concatenate([train_data[i][1] for i in range(len(train_data))])\n",
    "\n",
    "val_images = np.concatenate([val_data[i][0] for i in range(len(val_data))])\n",
    "val_labels = np.concatenate([val_data[i][1] for i in range(len(val_data))])\n",
    "\n",
    "# Flatten images for Random Forest\n",
    "train_images_flat = train_images.reshape(train_images.shape[0], -1)\n",
    "val_images_flat = val_images.reshape(val_images.shape[0], -1)\n",
    "\n",
    "# Step 2: Train the Random Forest Classifier\n",
    "rf_model = RandomForestClassifier(n_estimators=100, random_state=42)\n",
    "rf_model.fit(train_images_flat, train_labels)\n",
    "\n",
    "# Step 3: Predict and Evaluate\n",
    "val_predictions_rf = rf_model.predict(val_images_flat)\n",
    "\n",
    "# Calculate metrics\n",
    "accuracy_rf = accuracy_score(val_labels, val_predictions_rf)\n",
    "precision_rf = precision_score(val_labels, val_predictions_rf)\n",
    "recall_rf = recall_score(val_labels, val_predictions_rf)\n",
    "f1_rf = f1_score(val_labels, val_predictions_rf)\n",
    "\n",
    "print(f\"Random Forest - Accuracy: {accuracy_rf:.2f}\")\n",
    "print(f\"Random Forest - Precision: {precision_rf:.2f}\")\n",
    "print(f\"Random Forest - Recall: {recall_rf:.2f}\")\n",
    "print(f\"Random Forest - F1-Score: {f1_rf:.2f}\")\n",
    "\n",
    "\n"
   ]
  },
  {
   "cell_type": "code",
   "execution_count": 34,
   "metadata": {},
   "outputs": [
    {
     "name": "stdout",
     "output_type": "stream",
     "text": [
      "SVM - Accuracy: 0.85\n",
      "SVM - Precision: 0.85\n",
      "SVM - Recall: 0.95\n",
      "SVM - F1-Score: 0.90\n"
     ]
    }
   ],
   "source": [
    "from sklearn.svm import SVC\n",
    "from sklearn.metrics import accuracy_score, precision_score, recall_score, f1_score, classification_report\n",
    "from sklearn.preprocessing import StandardScaler\n",
    "import numpy as np\n",
    "\n",
    "# Step 1: Prepare the data\n",
    "# Flatten the images and reshape for SVM\n",
    "train_images = np.concatenate([train_data[i][0] for i in range(len(train_data))])\n",
    "train_labels = np.concatenate([train_data[i][1] for i in range(len(train_data))])\n",
    "\n",
    "val_images = np.concatenate([val_data[i][0] for i in range(len(val_data))])\n",
    "val_labels = np.concatenate([val_data[i][1] for i in range(len(val_data))])\n",
    "\n",
    "# Flatten images for SVM\n",
    "train_images_flat = train_images.reshape(train_images.shape[0], -1)\n",
    "val_images_flat = val_images.reshape(val_images.shape[0], -1)\n",
    "\n",
    "# Standardize the data (important for SVM)\n",
    "scaler = StandardScaler()\n",
    "train_images_scaled = scaler.fit_transform(train_images_flat)\n",
    "val_images_scaled = scaler.transform(val_images_flat)\n",
    "\n",
    "# Step 2: Train the SVM Classifier\n",
    "svm_model = SVC(kernel='linear', probability=True, random_state=42)\n",
    "svm_model.fit(train_images_scaled, train_labels)\n",
    "\n",
    "# Step 3: Predict and Evaluate\n",
    "val_predictions_svm = svm_model.predict(val_images_scaled)\n",
    "\n",
    "# Calculate metrics\n",
    "accuracy_svm = accuracy_score(val_labels, val_predictions_svm)\n",
    "precision_svm = precision_score(val_labels, val_predictions_svm)\n",
    "recall_svm = recall_score(val_labels, val_predictions_svm)\n",
    "f1_svm = f1_score(val_labels, val_predictions_svm)\n",
    "\n",
    "print(f\"SVM - Accuracy: {accuracy_svm:.2f}\")\n",
    "print(f\"SVM - Precision: {precision_svm:.2f}\")\n",
    "print(f\"SVM - Recall: {recall_svm:.2f}\")\n",
    "print(f\"SVM - F1-Score: {f1_svm:.2f}\")\n",
    "\n"
   ]
  },
  {
   "cell_type": "code",
   "execution_count": null,
   "metadata": {},
   "outputs": [],
   "source": []
  }
 ],
 "metadata": {
  "kernelspec": {
   "display_name": "Python 3",
   "language": "python",
   "name": "python3"
  },
  "language_info": {
   "codemirror_mode": {
    "name": "ipython",
    "version": 3
   },
   "file_extension": ".py",
   "mimetype": "text/x-python",
   "name": "python",
   "nbconvert_exporter": "python",
   "pygments_lexer": "ipython3",
   "version": "3.10.11"
  }
 },
 "nbformat": 4,
 "nbformat_minor": 2
}
